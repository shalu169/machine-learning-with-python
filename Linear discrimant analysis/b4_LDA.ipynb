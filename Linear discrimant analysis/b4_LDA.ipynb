{
 "cells": [
  {
   "cell_type": "markdown",
   "metadata": {},
   "source": [
    "## Code with KNN classifier before applying LDA:\n",
    "here we used KNN classifier on iris.csv dataset with any dimentionality reduction. we will see the accuracy and then compare it with after LDA analysis. \n"
   ]
  },
  {
   "cell_type": "code",
   "execution_count": 1,
   "metadata": {},
   "outputs": [],
   "source": [
    "import numpy as np\n",
    "import matplotlib.pyplot as plt\n",
    "import pandas as pd\n",
    "from sklearn import decomposition\n",
    "from sklearn import datasets"
   ]
  },
  {
   "cell_type": "code",
   "execution_count": 2,
   "metadata": {},
   "outputs": [],
   "source": [
    "# load dataset into Pandas DataFrame\n",
    "df = pd.read_csv(\"iris.csv\")\n",
    "#df.to_csv('iris.csv')"
   ]
  },
  {
   "cell_type": "code",
   "execution_count": 5,
   "metadata": {},
   "outputs": [],
   "source": [
    "from sklearn.preprocessing import StandardScaler\n",
    "\n",
    "features = ['sepal_length', 'sepal_width', 'petal_length', 'petal_width']\n",
    "# Separating out the features\n",
    "X = df.loc[:, features].values\n",
    "# Separating out the target\n",
    "Y = df.loc[:,['species']].values"
   ]
  },
  {
   "cell_type": "code",
   "execution_count": 6,
   "metadata": {},
   "outputs": [],
   "source": [
    "from sklearn.model_selection import train_test_split\n",
    "X_train, X_test, y_train, y_test = train_test_split(X, Y, test_size = 0.3, random_state = 100)\n",
    "y_train=y_train.ravel()\n",
    "y_test=y_test.ravel()"
   ]
  },
  {
   "cell_type": "code",
   "execution_count": 7,
   "metadata": {},
   "outputs": [],
   "source": [
    "from sklearn.neighbors import KNeighborsClassifier\n",
    "model = KNeighborsClassifier()\n",
    "model.fit(X_train, y_train)\n",
    "Yhat = model.predict(X_test)"
   ]
  },
  {
   "cell_type": "code",
   "execution_count": 8,
   "metadata": {},
   "outputs": [
    {
     "name": "stdout",
     "output_type": "stream",
     "text": [
      "*********** Accuracy of IRIS Dataset Before LDA *********** \n",
      "\n",
      "Accuracy is  97.77777777777777 % for K-Value: 1\n",
      "Accuracy is  97.77777777777777 % for K-Value: 2\n",
      "Accuracy is  97.77777777777777 % for K-Value: 3\n",
      "Accuracy is  95.55555555555556 % for K-Value: 4\n",
      "Accuracy is  97.77777777777777 % for K-Value: 5\n",
      "Accuracy is  97.77777777777777 % for K-Value: 6\n",
      "Accuracy is  100.0 % for K-Value: 7\n",
      "Accuracy is  97.77777777777777 % for K-Value: 8\n",
      "Accuracy is  100.0 % for K-Value: 9\n",
      "Accuracy is  100.0 % for K-Value: 10\n",
      "Accuracy is  100.0 % for K-Value: 11\n",
      "Accuracy is  100.0 % for K-Value: 12\n",
      "Accuracy is  100.0 % for K-Value: 13\n",
      "Accuracy is  97.77777777777777 % for K-Value: 14\n",
      "Accuracy is  97.77777777777777 % for K-Value: 15\n",
      "Accuracy is  97.77777777777777 % for K-Value: 16\n",
      "Accuracy is  97.77777777777777 % for K-Value: 17\n",
      "Accuracy is  97.77777777777777 % for K-Value: 18\n",
      "Accuracy is  97.77777777777777 % for K-Value: 19\n",
      "Accuracy is  95.55555555555556 % for K-Value: 20\n",
      "Accuracy is  95.55555555555556 % for K-Value: 21\n",
      "Accuracy is  95.55555555555556 % for K-Value: 22\n",
      "Accuracy is  95.55555555555556 % for K-Value: 23\n",
      "Accuracy is  95.55555555555556 % for K-Value: 24\n",
      "Accuracy is  97.77777777777777 % for K-Value: 25\n"
     ]
    }
   ],
   "source": [
    "from sklearn import metrics\n",
    "#acc = metrics.accuracy_score(Yhat, y_test)\n",
    "#print(acc)\n",
    "print('*'*11,'Accuracy of IRIS Dataset Before LDA','*'*11,'\\n')\n",
    "for K in range(25):\n",
    " K_value = K+1\n",
    " neigh = KNeighborsClassifier(n_neighbors = K_value, weights='uniform', algorithm='auto')\n",
    " neigh.fit(X_train, y_train) \n",
    " y_pred = neigh.predict(X_test)\n",
    " print (\"Accuracy is \", metrics.accuracy_score(y_test,y_pred)*100,\"% for K-Value:\",K_value)"
   ]
  },
  {
   "cell_type": "code",
   "execution_count": null,
   "metadata": {},
   "outputs": [],
   "source": []
  }
 ],
 "metadata": {
  "kernelspec": {
   "display_name": "Python 3",
   "language": "python",
   "name": "python3"
  },
  "language_info": {
   "codemirror_mode": {
    "name": "ipython",
    "version": 3
   },
   "file_extension": ".py",
   "mimetype": "text/x-python",
   "name": "python",
   "nbconvert_exporter": "python",
   "pygments_lexer": "ipython3",
   "version": "3.7.1"
  }
 },
 "nbformat": 4,
 "nbformat_minor": 2
}
